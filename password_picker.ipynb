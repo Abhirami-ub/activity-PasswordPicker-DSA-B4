{
 "cells": [
  {
   "cell_type": "code",
   "execution_count": 1,
   "id": "226909a5",
   "metadata": {},
   "outputs": [
    {
     "name": "stdout",
     "output_type": "stream",
     "text": [
      "New password is: HugeHouse17#\n"
     ]
    }
   ],
   "source": [
    "import random\n",
    "Adjectives=['Beautiful','Adorable','Amused','Attractive','Clever','Smart','Brave','Perfect','Huge','Fantastic']\n",
    "Noun=['Girl','Fish','Dog','Parrot','House','Kitten','Ocean','Boy','Island','Time']\n",
    "Numbers=range(0,100)\n",
    "Characters=['@','#','!','$','%','&','*','~','+','^']\n",
    "adj=random.choice(Adjectives)\n",
    "noun=random.choice(Noun)\n",
    "num=random.choice(Numbers)\n",
    "char=random.choice(Characters)\n",
    "print(\"New password is:\",str(adj)+str(noun)+str(num)+str(char))"
   ]
  },
  {
   "cell_type": "code",
   "execution_count": null,
   "id": "92617489",
   "metadata": {},
   "outputs": [],
   "source": []
  }
 ],
 "metadata": {
  "kernelspec": {
   "display_name": "Python 3",
   "language": "python",
   "name": "python3"
  },
  "language_info": {
   "codemirror_mode": {
    "name": "ipython",
    "version": 3
   },
   "file_extension": ".py",
   "mimetype": "text/x-python",
   "name": "python",
   "nbconvert_exporter": "python",
   "pygments_lexer": "ipython3",
   "version": "3.8.8"
  }
 },
 "nbformat": 4,
 "nbformat_minor": 5
}
